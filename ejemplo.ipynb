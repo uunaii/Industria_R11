{
 "cells": [
  {
   "cell_type": "code",
   "execution_count": 1,
   "metadata": {},
   "outputs": [],
   "source": [
    "import pandas as pd\n",
    "import matplotlib.pyplot as plt\n",
    "import numpy as np"
   ]
  },
  {
   "cell_type": "code",
   "execution_count": 2,
   "metadata": {},
   "outputs": [
    {
     "data": {
      "text/html": [
       "<div>\n",
       "<style scoped>\n",
       "    .dataframe tbody tr th:only-of-type {\n",
       "        vertical-align: middle;\n",
       "    }\n",
       "\n",
       "    .dataframe tbody tr th {\n",
       "        vertical-align: top;\n",
       "    }\n",
       "\n",
       "    .dataframe thead th {\n",
       "        text-align: right;\n",
       "    }\n",
       "</style>\n",
       "<table border=\"1\" class=\"dataframe\">\n",
       "  <thead>\n",
       "    <tr style=\"text-align: right;\">\n",
       "      <th></th>\n",
       "      <th>Time (s)</th>\n",
       "      <th>Linear Acceleration x (m/s^2)</th>\n",
       "      <th>Linear Acceleration y (m/s^2)</th>\n",
       "      <th>Linear Acceleration z (m/s^2)</th>\n",
       "      <th>Absolute acceleration (m/s^2)</th>\n",
       "    </tr>\n",
       "  </thead>\n",
       "  <tbody>\n",
       "    <tr>\n",
       "      <th>0</th>\n",
       "      <td>0.016974</td>\n",
       "      <td>-0.169461</td>\n",
       "      <td>0.606609</td>\n",
       "      <td>-1.412505</td>\n",
       "      <td>1.546565</td>\n",
       "    </tr>\n",
       "    <tr>\n",
       "      <th>1</th>\n",
       "      <td>0.026944</td>\n",
       "      <td>-0.920253</td>\n",
       "      <td>0.660007</td>\n",
       "      <td>-1.217763</td>\n",
       "      <td>1.662956</td>\n",
       "    </tr>\n",
       "    <tr>\n",
       "      <th>2</th>\n",
       "      <td>0.036914</td>\n",
       "      <td>-1.188846</td>\n",
       "      <td>0.424087</td>\n",
       "      <td>-0.871510</td>\n",
       "      <td>1.533862</td>\n",
       "    </tr>\n",
       "    <tr>\n",
       "      <th>3</th>\n",
       "      <td>0.046884</td>\n",
       "      <td>-0.904379</td>\n",
       "      <td>0.008561</td>\n",
       "      <td>-0.432547</td>\n",
       "      <td>1.002532</td>\n",
       "    </tr>\n",
       "    <tr>\n",
       "      <th>4</th>\n",
       "      <td>0.056855</td>\n",
       "      <td>-0.583699</td>\n",
       "      <td>-0.308751</td>\n",
       "      <td>-0.076006</td>\n",
       "      <td>0.664687</td>\n",
       "    </tr>\n",
       "  </tbody>\n",
       "</table>\n",
       "</div>"
      ],
      "text/plain": [
       "   Time (s)  Linear Acceleration x (m/s^2)  Linear Acceleration y (m/s^2)  \\\n",
       "0  0.016974                      -0.169461                       0.606609   \n",
       "1  0.026944                      -0.920253                       0.660007   \n",
       "2  0.036914                      -1.188846                       0.424087   \n",
       "3  0.046884                      -0.904379                       0.008561   \n",
       "4  0.056855                      -0.583699                      -0.308751   \n",
       "\n",
       "   Linear Acceleration z (m/s^2)  Absolute acceleration (m/s^2)  \n",
       "0                      -1.412505                       1.546565  \n",
       "1                      -1.217763                       1.662956  \n",
       "2                      -0.871510                       1.533862  \n",
       "3                      -0.432547                       1.002532  \n",
       "4                      -0.076006                       0.664687  "
      ]
     },
     "execution_count": 2,
     "metadata": {},
     "output_type": "execute_result"
    }
   ],
   "source": [
    "df= pd.read_csv('bici.csv')\n",
    "df.head()"
   ]
  },
  {
   "cell_type": "code",
   "execution_count": 3,
   "metadata": {},
   "outputs": [
    {
     "name": "stdout",
     "output_type": "stream",
     "text": [
      "Frecuencia de muestreo: 100.30355164194997 Hz\n"
     ]
    }
   ],
   "source": [
    "# periodo de muestreo\n",
    "# El periodo, cada cuanto estamos tomando una muestra de las que estamos obtendiendo\n",
    "T= df['Time (s)'].diff().mean()\n",
    "\n",
    "# Frecuencia de muestreo\n",
    "fs= 1/T\n",
    "print('Frecuencia de muestreo:', fs, 'Hz')\n",
    "# Este resultado puede variar dependiendo del movil con el que se obtengan los datos\n",
    "# Cada 20 milisgendos se toma una muestra 200Hz\n",
    "# Cada 10 milisegundos se toma una muestra 100Hz"
   ]
  },
  {
   "cell_type": "code",
   "execution_count": 4,
   "metadata": {},
   "outputs": [],
   "source": [
    "# Aplicar fft sobre la señal\n",
    "rfft_output = np.fft.rfft(df['Linear Acceleration x (m/s^2)']) \n",
    "# se pueden conseguir valores negativos\n",
    "# para corregir esto tenemos que aplicar esta formula\n",
    "rfft_msg = [np.sqrt(i.real**2 + i.imag**2) for i in rfft_output]\n",
    "# obtener las frecuencias\n",
    "rfreqs=[(i*1.0)/len(rfft_msg)*fs for i in range(len(rfft_msg))]"
   ]
  },
  {
   "cell_type": "code",
   "execution_count": 5,
   "metadata": {},
   "outputs": [],
   "source": [
    "# Elegir la  x qu"
   ]
  },
  {
   "cell_type": "code",
   "execution_count": 6,
   "metadata": {},
   "outputs": [
    {
     "data": {
      "text/plain": [
       "[<matplotlib.lines.Line2D at 0x2b6e13f8790>]"
      ]
     },
     "execution_count": 6,
     "metadata": {},
     "output_type": "execute_result"
    },
    {
     "data": {
      "image/png": "[encoded data removed]",
      "text/plain": [
       "<Figure size 640x480 with 1 Axes>"
      ]
     },
     "metadata": {},
     "output_type": "display_data"
    }
   ],
   "source": [
    "# Graficame el dominio frecuencial en hercios, amplitud\n",
    "plt.plot(rfreqs, rfft_msg)"
   ]
  },
  {
   "cell_type": "code",
   "execution_count": 7,
   "metadata": {},
   "outputs": [
    {
     "name": "stdout",
     "output_type": "stream",
     "text": [
      "Frecuencia dominante 2.0746955789106596\n",
      "PSD: 2136123.1993714217\n",
      "Skewness: 0.3689826783103134\n",
      "Kurtosis: 7.19603338253021\n"
     ]
    }
   ],
   "source": [
    "print('Frecuencia dominante', rfreqs[np.argmax(rfft_msg)])\n",
    "print('PSD:',np.sum(rfft_msg))\n",
    "print('Skewness:',df['Linear Acceleration x (m/s^2)'].skew())\n",
    "print('Kurtosis:',df['Linear Acceleration x (m/s^2)'].kurtosis())"
   ]
  },
  {
   "cell_type": "code",
   "execution_count": 12,
   "metadata": {},
   "outputs": [
    {
     "name": "stderr",
     "output_type": "stream",
     "text": [
      "\"sudo\" no se reconoce como un comando interno o externo,\n",
      "programa o archivo por lotes ejecutable.\n"
     ]
    }
   ],
   "source": [
    "! sudo apt-get install python-scipy"
   ]
  },
  {
   "cell_type": "code",
   "execution_count": 10,
   "metadata": {},
   "outputs": [
    {
     "ename": "ModuleNotFoundError",
     "evalue": "No module named 'spicy'",
     "output_type": "error",
     "traceback": [
      "\u001b[1;31m---------------------------------------------------------------------------\u001b[0m",
      "\u001b[1;31mModuleNotFoundError\u001b[0m                       Traceback (most recent call last)",
      "Cell \u001b[1;32mIn[10], line 1\u001b[0m\n\u001b[1;32m----> 1\u001b[0m \u001b[38;5;28;01mfrom\u001b[39;00m \u001b[38;5;21;01mspicy\u001b[39;00m\u001b[38;5;21;01m.\u001b[39;00m\u001b[38;5;21;01msignal\u001b[39;00m \u001b[38;5;28;01mimport\u001b[39;00m get_window\n\u001b[0;32m      2\u001b[0m window \u001b[38;5;241m=\u001b[39m get_window(\u001b[38;5;124m\"\u001b[39m\u001b[38;5;124mhann\u001b[39m\u001b[38;5;124m\"\u001b[39m,\u001b[38;5;28mlen\u001b[39m(df),fftbins\u001b[38;5;241m=\u001b[39m\u001b[38;5;28;01mTrue\u001b[39;00m)\n",
      "\u001b[1;31mModuleNotFoundError\u001b[0m: No module named 'spicy'"
     ]
    }
   ],
   "source": [
    "from spicy.signal import get_window\n",
    "window = get_window(\"hann\",len(df),fftbins=True)\n",
    "plt.plot(window)\n",
    "# si multiplicamos esto a la fft para lograr esa periocididad que asume fourier\n"
   ]
  },
  {
   "cell_type": "code",
   "execution_count": null,
   "metadata": {},
   "outputs": [],
   "source": [
    "# Nos aseguramos que la transformada de fourir que lo haga correctamente\n",
    "plt.show((df['Linear Acceleration x (m/s^2)']*window))"
   ]
  },
  {
   "cell_type": "code",
   "execution_count": null,
   "metadata": {},
   "outputs": [],
   "source": [
    "# Aplicar fft sobre la señal\n",
    "rfft_output = np.fft.rfft(df['Linear Acceleration x (m/s^2)']*window) \n",
    "# se pueden conseguir valores negativos\n",
    "# para corregir esto tenemos que aplicar esta formula\n",
    "rfft_msg = [np.sqrt(i.real**2 + i.imag**2) for i in rfft_output]\n",
    "# obtener las frecuencias\n",
    "rfreqs=[(i*1.0)/len(rfft_msg)*fs for i in range(len(rfft_msg))]"
   ]
  },
  {
   "cell_type": "code",
   "execution_count": null,
   "metadata": {},
   "outputs": [],
   "source": [
    "# Ver si hay discepancias entre ambas señales\n",
    "# Ahora la señal es periodica en el tiempo\n",
    "\n",
    "print('Frecuencia dominante', rfreqs[np.argmax(rfft_msg)])\n",
    "print('PSD:',np.sum(rfft_msg))\n",
    "print('Skewness:',df['Linear Acceleration x (m/s^2)'].skew())\n",
    "print('Kurtosis:',df['Linear Acceleration x (m/s^2)'].kurtosis())"
   ]
  },
  {
   "cell_type": "code",
   "execution_count": 13,
   "metadata": {},
   "outputs": [
    {
     "ename": "SyntaxError",
     "evalue": "invalid syntax (3341484081.py, line 3)",
     "output_type": "error",
     "traceback": [
      "\u001b[1;36m  Cell \u001b[1;32mIn[13], line 3\u001b[1;36m\u001b[0m\n\u001b[1;33m    from scipy\u001b[0m\n\u001b[1;37m              ^\u001b[0m\n\u001b[1;31mSyntaxError\u001b[0m\u001b[1;31m:\u001b[0m invalid syntax\n"
     ]
    }
   ],
   "source": [
    "#   hacer una funcion para hacerlo junto\n",
    "def Myfft(Fs,X):\n",
    "    from scipy\n",
    "    window = get_window(\"hann\",len(X),fftbins=True)\n",
    "    X = X*window\n",
    "    ##\n",
    "    rfft_output = np.fft.rfft(X)\n",
    "    rfft_msg = [np.sqrt(i.real**2 + i.imag**2) for i in rfft_output]\n",
    "    num_samples = len(X)\n",
    "    rfreqs=[(i*1.0)/num_samples*Fs for i in range(len(rfft_msg))]\n",
    "    return rfreqs, rfft_msg"
   ]
  },
  {
   "cell_type": "code",
   "execution_count": null,
   "metadata": {},
   "outputs": [],
   "source": [
    "def freq_features(raw_data,window_size=1000,step_size=500):\n",
    "    data = []\n",
    "    for i in range(0,len(raw_data)-window_size+1,step_size):\n",
    "\n",
    "        window_data_X= raw_data.iloc[i:i+window_size,1]  # X_axis\n",
    "        window_data_Y= raw_data.iloc[i:i+window_size,2]  # Y_axis\n",
    "        window_data_Z= raw_data.iloc[i:i+window_size,3]  # Z_axis\n",
    "\n",
    "        fft_mag_X = Myfft(fs,window_data_X)\n",
    "        fft_mag_Y = Myfft(fs,window_data_Y)\n",
    "        fft_mag_Z = Myfft(fs,window_data_Z)\n",
    "        data.appeend([fft_freq[]])"
   ]
  },
  {
   "cell_type": "code",
   "execution_count": 14,
   "metadata": {},
   "outputs": [
    {
     "name": "stderr",
     "output_type": "stream",
     "text": [
      "\"sudo\" no se reconoce como un comando interno o externo,\n",
      "programa o archivo por lotes ejecutable.\n"
     ]
    }
   ],
   "source": [
    "! sudo apt-get install python3-scipy"
   ]
  }
 ],
 "metadata": {
  "kernelspec": {
   "display_name": "base",
   "language": "python",
   "name": "python3"
  },
  "language_info": {
   "codemirror_mode": {
    "name": "ipython",
    "version": 3
   },
   "file_extension": ".py",
   "mimetype": "text/x-python",
   "name": "python",
   "nbconvert_exporter": "python",
   "pygments_lexer": "ipython3",
   "version": "3.12.2"
  }
 },
 "nbformat": 4,
 "nbformat_minor": 2
}
